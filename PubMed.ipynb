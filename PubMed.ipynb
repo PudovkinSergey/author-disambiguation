{
 "cells": [
  {
   "cell_type": "code",
   "execution_count": 2,
   "metadata": {},
   "outputs": [],
   "source": [
    "from Bio import Entrez,Medline\n",
    "\n",
    "# Объем получаемых данных\n",
    "N=100\n",
    "\n",
    "# Класс - структура для хранения данных об авторе\n",
    "class Author:\n",
    "    def __init__(self,id,name,coauthors,affiliations,abstract,article_title):\n",
    "        self.id=id\n",
    "        self.name=name\n",
    "        self.coauthors=coauthors\n",
    "        self.affiliations=affiliations\n",
    "        self.abstract=abstract\n",
    "        self.article_title=article_title\n",
    "\n",
    "# Получение данных из PubMed\n",
    "def obt_data(N):\n",
    "    def search(query):\n",
    "        Entrez.email='123@gmail.com'\n",
    "        handle=Entrez.esearch(db='pubmed',sort = 'revelance', retmax =N,term=query)\n",
    "        record=Entrez.read(handle)\n",
    "        idList=record[\"IdList\"]\n",
    "        handle=Entrez.efetch(db='pubmed', id = idList, retmode='xml')\n",
    "        results=Entrez.read(handle)\n",
    "        return results\n",
    "    data=search(\"miRna\")\n",
    "\n",
    "    # Получение аффилиаций конкретного автора\n",
    "    def affiliation(data,i,j):\n",
    "        return data[\"PubmedArticle\"][i][\"MedlineCitation\"][\"Article\"][\"AuthorList\"][j]['AffiliationInfo'][0]['Affiliation']\n",
    "\n",
    "\n",
    "    # Получение абстракта статьи\n",
    "    def abstract(data,i):\n",
    "            return data[\"PubmedArticle\"][i][\"MedlineCitation\"][\"Article\"]['Abstract']['AbstractText']\n",
    "\n",
    "    # Получение имени автора\n",
    "    def name(data,i,j):\n",
    "            return data[\"PubmedArticle\"][i][\"MedlineCitation\"][\"Article\"][\"AuthorList\"][j]['LastName']+' '+data[\"PubmedArticle\"][i][\"MedlineCitation\"][\"Article\"][\"AuthorList\"][j]['ForeName']+' ' +data[\"PubmedArticle\"][i][\"MedlineCitation\"][\"Article\"][\"AuthorList\"][j]['Initials'] \n",
    "\n",
    "    # Получение заголовка статьи\n",
    "    def article_title(data,i):\n",
    "        return data[\"PubmedArticle\"][i][\"MedlineCitation\"][\"Article\"]['ArticleTitle']\n",
    "\n",
    "    # Получение соавторов  \n",
    "    def coauthors(data,i,j):\n",
    "        coauthors=[]\n",
    "        author=name(data,i,j)\n",
    "        for k in range(0,len(data[\"PubmedArticle\"][i][\"MedlineCitation\"][\"Article\"][\"AuthorList\"])):\n",
    "            current=name(data,i,k)\n",
    "            if current!=author:\n",
    "                coauthors.append(current)\n",
    "        return coauthors\n",
    "\n",
    "    # Получение количество авторов статьи\n",
    "    def numberOfAuthors(data,i):\n",
    "        return len(data[\"PubmedArticle\"][i][\"MedlineCitation\"][\"Article\"][\"AuthorList\"])\n",
    "\n",
    "    # Сбор всех данных в список авторов\n",
    "    author_list=[]\n",
    "    for i in range(0,N):\n",
    "        for j in range(0,numberOfAuthors(data,i)):\n",
    "            try:\n",
    "                author_list.append(Author(i,name(data,i,j),coauthors(data,i,j),affiliation(data,i,j),abstract(data,i),article_title(data,i)))\n",
    "            except IndexError:\n",
    "                pass\n",
    "            except KeyError:\n",
    "                pass\n",
    "    return author_list"
   ]
  },
  {
   "cell_type": "code",
   "execution_count": 3,
   "metadata": {},
   "outputs": [],
   "source": [
    "a=obt_data(20)"
   ]
  },
  {
   "cell_type": "code",
   "execution_count": 7,
   "metadata": {},
   "outputs": [
    {
     "data": {
      "text/plain": [
       "{'id': 1,\n",
       " 'name': 'Zhang Hongfei H',\n",
       " 'coauthors': ['Bian Wei W',\n",
       "  'Tang Miao M',\n",
       "  'Zhang Shaojun S',\n",
       "  'Wang Lichao L',\n",
       "  'Liu Longlong L',\n",
       "  'Wang Wenyao W'],\n",
       " 'affiliations': 'Department of General Surgery of East District, The Second Hospital of Hebei Medical University, Shijiazhuang, China.',\n",
       " 'abstract': [StringElement('Disseminated tumors, known as metastases, are responsible for ninety-percent of mortality due to cancer. Epithelial to mesenchymal transition, a phenomenon required for morphological conversion of non-motile discoid shaped epithelial cells to highly motile spindle-shaped mesenchymal cells, is thought to be a pre-requisite for metastatic progression. Metastasis-associated 1 (MTA1) protein is a prime inducer of EMT and metastatic progression in all solid tumors including hepatocellular carcinoma (HCC). However, the molecular mechanisms that regulate the expression and function of MTA1 in HCC have not been elucidated.', attributes={'Label': 'BACKGROUND/AIMS', 'NlmCategory': 'OBJECTIVE'}),\n",
       "  StringElement('In silico prediction algorithms were used to find microRNAs (miRNAs) that may target MTA1. We examined the relationship between the expression of MTA1 and miR-183 using quantitative real time PCR. We also determined the levels of the MTA1 protein using immunohistochemistry. Reporter assays, in the presence and absence of the miR-183 mimic, were used to confirm MTA1 as a bona fide target of miR183. The effect of miR-183 on HCC pathogenesis was determined using a combination of in vitro migration and invasion assay, together with in vivo xenograft experiments. The correlation between miR-183 and MTA1 expression was also studied in samples from HCC patients, and in The Cancer Genome Atlas dataset.', attributes={'Label': 'METHODS', 'NlmCategory': 'METHODS'}),\n",
       "  StringElement(\"Analysis of the sequence database revealed that MTA1 is a putative target of miR-183. MTA1 protein and RNA expression showed opposite trends to miR-183 expression in breast, renal, prostate, and testicular tissue samples from cancer patients, and in the metastatic HCC cell line HepG2. An inverse correlation was also observed between MTA1 (high) and miR-183 (low) expression within samples from HHC patients and in the TCGA dataset. Reporter assays in HepG2 cells showed that miR-183 could inhibit translation of a reporter harboring the wild-type, but not the mutant miR-183 3'-untranslated region (UTR). In addition, miR-183 significantly inhibited in vitro migration and invasion in HepG2 cells, and in vivo hepatic metastasis.\", attributes={'Label': 'RESULTS', 'NlmCategory': 'RESULTS'}),\n",
       "  StringElement('Our results reveal a novel post-transcriptional regulatory mechanism for MTA1 expression via miR-183, which is suppressed during HCC pathogenesis.', attributes={'Label': 'CONCLUSION', 'NlmCategory': 'CONCLUSIONS'})],\n",
       " 'article_title': 'Potential Role of microRNA-183 as a Tumor Suppressor in Hepatocellular Carcinoma.'}"
      ]
     },
     "execution_count": 7,
     "metadata": {},
     "output_type": "execute_result"
    }
   ],
   "source": [
    "a[1].__dict__"
   ]
  },
  {
   "cell_type": "code",
   "execution_count": null,
   "metadata": {},
   "outputs": [],
   "source": []
  },
  {
   "cell_type": "code",
   "execution_count": null,
   "metadata": {},
   "outputs": [],
   "source": []
  },
  {
   "cell_type": "code",
   "execution_count": null,
   "metadata": {},
   "outputs": [],
   "source": []
  },
  {
   "cell_type": "code",
   "execution_count": 64,
   "metadata": {},
   "outputs": [],
   "source": []
  },
  {
   "cell_type": "code",
   "execution_count": null,
   "metadata": {},
   "outputs": [],
   "source": []
  },
  {
   "cell_type": "code",
   "execution_count": 55,
   "metadata": {},
   "outputs": [],
   "source": []
  },
  {
   "cell_type": "code",
   "execution_count": null,
   "metadata": {},
   "outputs": [],
   "source": []
  },
  {
   "cell_type": "code",
   "execution_count": 24,
   "metadata": {},
   "outputs": [],
   "source": []
  },
  {
   "cell_type": "code",
   "execution_count": null,
   "metadata": {},
   "outputs": [],
   "source": []
  },
  {
   "cell_type": "code",
   "execution_count": null,
   "metadata": {},
   "outputs": [],
   "source": []
  },
  {
   "cell_type": "code",
   "execution_count": null,
   "metadata": {},
   "outputs": [],
   "source": []
  }
 ],
 "metadata": {
  "kernelspec": {
   "display_name": "Python 3",
   "language": "python",
   "name": "python3"
  },
  "language_info": {
   "codemirror_mode": {
    "name": "ipython",
    "version": 3
   },
   "file_extension": ".py",
   "mimetype": "text/x-python",
   "name": "python",
   "nbconvert_exporter": "python",
   "pygments_lexer": "ipython3",
   "version": "3.6.5"
  }
 },
 "nbformat": 4,
 "nbformat_minor": 2
}
