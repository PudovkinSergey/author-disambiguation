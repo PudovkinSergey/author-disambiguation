{
 "cells": [
  {
   "cell_type": "code",
   "execution_count": 78,
   "metadata": {},
   "outputs": [],
   "source": [
    "from Bio import Entrez,Medline\n",
    "import Levenshtein as lev\n",
    "\n",
    "# Класс - структура для хранения данных об авторе\n",
    "class Author:\n",
    "    def __init__(self,id,name,coauthors,affiliations,abstract,article_title):\n",
    "        self.id=id\n",
    "        self.name=name\n",
    "        self.coauthors=coauthors\n",
    "        self.affiliations=affiliations\n",
    "        self.abstract=abstract\n",
    "        self.article_title=article_title\n",
    "        \n",
    "# Класс для подсчета расстояния между авторами\n",
    "# содержит список пар авторов и расстояний между ними\n",
    "class Pair:\n",
    "        def __init__(self,id1,id2,pair_names,pair_coauthors,pair_affiliations):\n",
    "            self.id1=id1\n",
    "            self.id2=id2\n",
    "            self.pair_names=pair_names\n",
    "            self.pair_coauthors=pair_coauthors\n",
    "            self.pair_affiliations=pair_affiliations\n",
    "            \n",
    "class Author_distance:\n",
    "               \n",
    "    def __init__(self,list_of_authors,distance):\n",
    "        # создаем список для хранения пар авторов\n",
    "        self.list_of_pairs=[]\n",
    "        for i in range(0,len(list_of_authors)):\n",
    "            for j in range(0,len(list_of_authors)):\n",
    "                if (i!=j):\n",
    "                    id1 = list_of_authors[i].id\n",
    "                    id2 = list_of_authors[j].id\n",
    "                    pair_names =distance(list_of_authors[i].name,list_of_authors[j].name)\n",
    "                    pair_coauthors =distance(list_of_authors[i].coauthors,list_of_authors[j].coauthors)\n",
    "                    pair_affiliations =distance(list_of_authors[i].affiliations,list_of_authors[j].affiliations)\n",
    "                    self.list_of_pairs.append(Pair(id1,id2,pair_names,pair_coauthors,pair_affiliations))\n",
    "    \n",
    "    \n",
    "\n",
    "# Получение данных из PubMed\n",
    "def obt_data(N, query):\n",
    "    def search(query):\n",
    "        Entrez.email='12113@gmail.com'\n",
    "        handle=Entrez.esearch(db='pubmed',sort = 'revelance', retmax =N,term=query)\n",
    "        record=Entrez.read(handle)\n",
    "        idList=record[\"IdList\"]\n",
    "        handle=Entrez.efetch(db='pubmed', id = idList, retmode='xml')\n",
    "        results=Entrez.read(handle)\n",
    "        return results\n",
    "    \n",
    "    data=search(query)\n",
    "    \n",
    "    # Получение аффилиаций конкретного автора\n",
    "    def affiliation(data,i,j):\n",
    "        return '.'.join(data[\"PubmedArticle\"][i][\"MedlineCitation\"][\"Article\"][\"AuthorList\"][j]['AffiliationInfo'][0]['Affiliation'].split(\",\"))\n",
    "\n",
    "\n",
    "    # Получение абстракта статьи\n",
    "    def abstract(data,i):\n",
    "            return data[\"PubmedArticle\"][i][\"MedlineCitation\"][\"Article\"]['Abstract']['AbstractText']\n",
    "\n",
    "    # Получение имени автора\n",
    "    def name(data,i,j):\n",
    "            return data[\"PubmedArticle\"][i][\"MedlineCitation\"][\"Article\"][\"AuthorList\"][j]['LastName']+' '+data[\"PubmedArticle\"][i][\"MedlineCitation\"][\"Article\"][\"AuthorList\"][j]['ForeName']+' ' +data[\"PubmedArticle\"][i][\"MedlineCitation\"][\"Article\"][\"AuthorList\"][j]['Initials'] \n",
    "\n",
    "    # Получение заголовка статьи\n",
    "    def article_title(data,i):\n",
    "        return data[\"PubmedArticle\"][i][\"MedlineCitation\"][\"Article\"]['ArticleTitle']\n",
    "\n",
    "    # Получение соавторов  \n",
    "    def coauthors(data,i,j):\n",
    "        coauthors=[]\n",
    "        author=name(data,i,j)\n",
    "        for k in range(0,len(data[\"PubmedArticle\"][i][\"MedlineCitation\"][\"Article\"][\"AuthorList\"])):\n",
    "            current=name(data,i,k)\n",
    "            if current!=author:\n",
    "                coauthors.append(current)\n",
    "        return ''.join(coauthors)\n",
    "\n",
    "    # Получение количество авторов статьи\n",
    "    def numberOfAuthors(data,i):\n",
    "        return len(data[\"PubmedArticle\"][i][\"MedlineCitation\"][\"Article\"][\"AuthorList\"])\n",
    "\n",
    "    # Сбор всех данных в список авторов\n",
    "    author_list=[]\n",
    "    id=0\n",
    "    for i in range(0,N):\n",
    "        for j in range(0,numberOfAuthors(data,i)):\n",
    "            try:\n",
    "                author_list.append(Author(id,name(data,i,j),coauthors(data,i,j),affiliation(data,i,j),abstract(data,i),article_title(data,i)))\n",
    "                id=id+1\n",
    "            except IndexError:\n",
    "                pass\n",
    "            except KeyError:\n",
    "                pass\n",
    "    return author_list"
   ]
  },
  {
   "cell_type": "code",
   "execution_count": 89,
   "metadata": {},
   "outputs": [],
   "source": [
    "list_of_authors=obt_data(20,\"miRna\")\n",
    "list_of_pairs=Author_distance(list_of_authors,lev.distance)"
   ]
  },
  {
   "cell_type": "code",
   "execution_count": null,
   "metadata": {},
   "outputs": [],
   "source": []
  },
  {
   "cell_type": "code",
   "execution_count": null,
   "metadata": {},
   "outputs": [],
   "source": []
  },
  {
   "cell_type": "code",
   "execution_count": null,
   "metadata": {},
   "outputs": [],
   "source": []
  },
  {
   "cell_type": "code",
   "execution_count": null,
   "metadata": {},
   "outputs": [],
   "source": []
  },
  {
   "cell_type": "code",
   "execution_count": null,
   "metadata": {},
   "outputs": [],
   "source": []
  },
  {
   "cell_type": "code",
   "execution_count": null,
   "metadata": {},
   "outputs": [],
   "source": []
  },
  {
   "cell_type": "code",
   "execution_count": 55,
   "metadata": {},
   "outputs": [],
   "source": []
  },
  {
   "cell_type": "code",
   "execution_count": null,
   "metadata": {},
   "outputs": [],
   "source": []
  },
  {
   "cell_type": "code",
   "execution_count": 24,
   "metadata": {},
   "outputs": [],
   "source": []
  },
  {
   "cell_type": "code",
   "execution_count": null,
   "metadata": {},
   "outputs": [],
   "source": []
  },
  {
   "cell_type": "code",
   "execution_count": null,
   "metadata": {},
   "outputs": [],
   "source": []
  },
  {
   "cell_type": "code",
   "execution_count": null,
   "metadata": {},
   "outputs": [],
   "source": []
  }
 ],
 "metadata": {
  "kernelspec": {
   "display_name": "Python 3",
   "language": "python",
   "name": "python3"
  },
  "language_info": {
   "codemirror_mode": {
    "name": "ipython",
    "version": 3
   },
   "file_extension": ".py",
   "mimetype": "text/x-python",
   "name": "python",
   "nbconvert_exporter": "python",
   "pygments_lexer": "ipython3",
   "version": "3.6.5"
  }
 },
 "nbformat": 4,
 "nbformat_minor": 2
}
