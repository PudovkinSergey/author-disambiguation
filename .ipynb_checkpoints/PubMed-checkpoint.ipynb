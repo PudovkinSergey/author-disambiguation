{
 "cells": [
  {
   "cell_type": "code",
   "execution_count": 207,
   "metadata": {},
   "outputs": [],
   "source": [
    "# Модуль для получения данных из PubMed и получения списка расстояний между авторами.\n",
    "from Bio import Entrez,Medline\n",
    "import Levenshtein as lev\n",
    "import time\n",
    "\n",
    "# Класс - структура для хранения данных об авторе\n",
    "class Author:\n",
    "    def __init__(self,id,name,coauthors,affiliations,abstract,title):\n",
    "        self.id=id\n",
    "        self.name=name\n",
    "        self.coauthors=coauthors\n",
    "        self.affiliations=affiliations\n",
    "        self.abstract=abstract\n",
    "        self.title=title\n",
    "        \n",
    "# Класс для хранения списка пар авторов\n",
    "class Pair:\n",
    "        def __init__(self,Author1,Author2):\n",
    "            self.id1=Author1.id\n",
    "            self.id2=Author2.id\n",
    "            self.name1=Author1.name\n",
    "            self.name2=Author2.name\n",
    "            self.coauthors1=Author1.coauthors\n",
    "            self.coauthors2=Author2.coauthors\n",
    "            self.affiliations1=Author1.affiliations\n",
    "            self.affiliations2=Author2.affiliations\n",
    "            self.abstract1=Author1.abstract\n",
    "            self.abstract2=Author2.abstract\n",
    "            self.title1=Author1.title\n",
    "            self.title2=Author2.title\n",
    "            self.same=2\n",
    "            \n",
    "            \n",
    "# class Author_distance:\n",
    "               \n",
    "#     def __init__(self,Pair,distance):\n",
    "#         # создаем список для хранения пар авторов\n",
    "#         for i in range(0,len(list_of_authors)):\n",
    "#             for j in range(0,len(list_of_authors)):\n",
    "#                 if (i!=j):\n",
    "#                     id1 = Pair.id1\n",
    "#                     id2 = Pair.id2\n",
    "#                     pair_names =distance(Pair.name1,Pair.name2)\n",
    "#                     pair_coauthors =distance(Pair.coauthors1,Pair.coauthors2)\n",
    "#                     pair_affiliations =distance(Pair.affiliations1,Pair.affiliations2)\n",
    "    \n",
    "    \n",
    "\n",
    "# Получение данных из PubMed\n",
    "def obt_data(N, query):\n",
    "    def search(query):\n",
    "        Entrez.email='12113@gmail.com'\n",
    "        handle=Entrez.esearch(db='pubmed',sort = 'revelance', retmax =N,term=query)\n",
    "        record=Entrez.read(handle)\n",
    "        idList=record[\"IdList\"]\n",
    "        handle=Entrez.efetch(db='pubmed', id = idList, retmode='xml')\n",
    "        results=Entrez.read(handle)\n",
    "        return results\n",
    "    \n",
    "    data=search(query)\n",
    "    \n",
    "    # Получение аффилиаций конкретного автора\n",
    "    def affiliation(data,i,j):\n",
    "        return '.'.join(data[\"PubmedArticle\"][i][\"MedlineCitation\"][\"Article\"][\"AuthorList\"][j]['AffiliationInfo'][0]['Affiliation'].split(\",\"))\n",
    "\n",
    "\n",
    "    # Получение абстракта статьи\n",
    "    def abstract(data,i):\n",
    "            return ''.join(data[\"PubmedArticle\"][i][\"MedlineCitation\"][\"Article\"]['Abstract']['AbstractText'])\n",
    "\n",
    "    # Получение имени автора\n",
    "    def name(data,i,j):\n",
    "            return data[\"PubmedArticle\"][i][\"MedlineCitation\"][\"Article\"][\"AuthorList\"][j]['LastName']+' '+data[\"PubmedArticle\"][i][\"MedlineCitation\"][\"Article\"][\"AuthorList\"][j]['ForeName']+' ' +data[\"PubmedArticle\"][i][\"MedlineCitation\"][\"Article\"][\"AuthorList\"][j]['Initials'] \n",
    "\n",
    "    # Получение заголовка статьи\n",
    "    def article_title(data,i):\n",
    "        return str(data[\"PubmedArticle\"][i][\"MedlineCitation\"][\"Article\"]['ArticleTitle'])\n",
    "\n",
    "    # Получение соавторов  \n",
    "    def coauthors(data,i,j):\n",
    "        coauthors=[]\n",
    "        author=name(data,i,j)\n",
    "        for k in range(0,len(data[\"PubmedArticle\"][i][\"MedlineCitation\"][\"Article\"][\"AuthorList\"])):\n",
    "            coauthors.append(name(data,i,k))\n",
    "        return ''.join(coauthors)\n",
    "\n",
    "    # Получение количество авторов статьи\n",
    "    def numberOfAuthors(data,i):\n",
    "        return len(data[\"PubmedArticle\"][i][\"MedlineCitation\"][\"Article\"][\"AuthorList\"])\n",
    "\n",
    "    # Сбор всех данных в список авторов\n",
    "    author_list=[]\n",
    "    id=0\n",
    "    for i in range(0,N):\n",
    "        for j in range(0,numberOfAuthors(data,i)):\n",
    "            try:\n",
    "                author_list.append(Author(id,name(data,i,j),coauthors(data,i,j),affiliation(data,i,j),abstract(data,i),article_title(data,i)))\n",
    "                id=id+1\n",
    "            except IndexError:\n",
    "                pass\n",
    "            except KeyError:\n",
    "                pass\n",
    "    return author_list\n",
    "\n",
    "def authors_to_pairs(list_of_authors):\n",
    "    list_of_pairs=[]\n",
    "    for i in range(0,len(list_of_authors)):\n",
    "        for j in range(0,len(list_of_authors)):\n",
    "            list_of_pairs.append(Pair(list_of_authors[i],list_of_authors[j]))\n",
    "    return list_of_pairs"
   ]
  },
  {
   "cell_type": "code",
   "execution_count": 208,
   "metadata": {},
   "outputs": [],
   "source": [
    "# Модуль для получения обучающей выборки\n",
    "from ipywidgets import widgets\n",
    "\n",
    "\n",
    "# функция для простого отображения виджетов с информацией о данном авторе.\n",
    "def print_info(pair):\n",
    "    author_text1=widgets.Textarea(\n",
    "    value=pair.name1,\n",
    "    disabled=True\n",
    "    )\n",
    "    coauthors_text1=widgets.Textarea(\n",
    "    value=pair.coauthors1,\n",
    "    disabled=True\n",
    "    )\n",
    "    affiliations_text1=widgets.Textarea(\n",
    "    value=pair.affiliations1,\n",
    "    disabled=True\n",
    "    )\n",
    "    author_text2=widgets.Textarea(\n",
    "    value=pair.name2,\n",
    "    disabled=True\n",
    "    )\n",
    "    coauthors_text2=widgets.Textarea(\n",
    "    value=pair.coauthors2,\n",
    "    disabled=True\n",
    "    )\n",
    "    affiliations_text2=widgets.Textarea(\n",
    "    value=pair.affiliations2,\n",
    "    disabled=True\n",
    "    )\n",
    "    return author_text1,coauthors_text1,affiliations_text1,author_text2,coauthors_text2,affiliations_text2\n",
    "\n",
    "# функция закрытия всех переданных виджетов.\n",
    "def close_widgets(name,coauthors,aff,box):\n",
    "    name.close()\n",
    "    coauthors.close()\n",
    "    aff.close()\n",
    "    box.close()\n",
    "    \n",
    "# функция для вывода графического интерфейса для получения обучающей выборки. Pair- набор пар, i- с какой пары начать.\n",
    "def training(list_of_pairs,i):\n",
    "   \n",
    "\n",
    "    if (list_of_pairs[i].id1==list_of_pairs[i].id2):\n",
    "        list_of_pairs[i].same=1\n",
    "        training(list_of_pairs,i+1)\n",
    "    else:\n",
    "        # Формируем виджеты для каждого автора\n",
    "        info=print_info(list_of_pairs[i])\n",
    "\n",
    "\n",
    "        name=widgets.HBox([info[0],info[3]])\n",
    "        coauthors=widgets.HBox([info[1],info[4]])\n",
    "        aff=widgets.HBox([info[2],info[5]])\n",
    "\n",
    "        # формируем виджеты кнопок\n",
    "        yes_button= widgets.Button(description=\"YES\")\n",
    "        no_button= widgets.Button(description=\"NO\")\n",
    "        cancel_button= widgets.Button(description=\"Cancel\")\n",
    "        skip_button= widgets.Button(description=\"Skip\")\n",
    "        box = widgets.HBox([yes_button,no_button,skip_button,cancel_button])\n",
    "\n",
    "        def on_yes_button_clicked(button):\n",
    "            list_of_pairs[i].same=1\n",
    "            close_widgets(name,coauthors,aff,box)\n",
    "            training(list_of_pairs,i+1)\n",
    "        yes_button.on_click(on_yes_button_clicked)\n",
    "\n",
    "        def on_no_button_clicked(button):\n",
    "            list_of_pairs[i].same=0\n",
    "            close_widgets(name,coauthors,aff,box)\n",
    "            training(list_of_pairs,i+1)\n",
    "        no_button.on_click(on_no_button_clicked)\n",
    "\n",
    "        def on_cancel_button_clicked(button):\n",
    "            close_widgets(name,coauthors,aff,box)\n",
    "            print(\"Вы остановились на паре номер: \"+str(i))\n",
    "        cancel_button.on_click(on_cancel_button_clicked)\n",
    "\n",
    "        def on_skip_button_clicked(button):\n",
    "            list_of_pairs.pop(i)\n",
    "            close_widgets(name,coauthors,aff,box)\n",
    "            training(list_of_pairs,i)\n",
    "        skip_button.on_click(on_skip_button_clicked)\n",
    "\n",
    "        display(name,coauthors,aff,box)\n"
   ]
  },
  {
   "cell_type": "code",
   "execution_count": 209,
   "metadata": {},
   "outputs": [],
   "source": [
    "# Получение данных\n",
    "list_of_authors=obt_data(20,\"miRna\")\n",
    "list_of_pairs=authors_to_pairs(list_of_authors)\n"
   ]
  },
  {
   "cell_type": "code",
   "execution_count": 210,
   "metadata": {},
   "outputs": [
    {
     "data": {
      "application/vnd.jupyter.widget-view+json": {
       "model_id": "",
       "version_major": 2,
       "version_minor": 0
      },
      "text/plain": [
       "HBox(children=(Textarea(value='Talepoor Ardakani Maryam M', disabled=True), Textarea(value='Rostamian Delavar …"
      ]
     },
     "metadata": {},
     "output_type": "display_data"
    },
    {
     "data": {
      "application/vnd.jupyter.widget-view+json": {
       "model_id": "",
       "version_major": 2,
       "version_minor": 0
      },
      "text/plain": [
       "HBox(children=(Textarea(value='Talepoor Ardakani Maryam MRostamian Delavar Mahsa MBaghi Masoud MNasr-Esfahani …"
      ]
     },
     "metadata": {},
     "output_type": "display_data"
    },
    {
     "data": {
      "application/vnd.jupyter.widget-view+json": {
       "model_id": "",
       "version_major": 2,
       "version_minor": 0
      },
      "text/plain": [
       "HBox(children=(Textarea(value='Department of Biology. School of Sciences. University of Isfahan. Isfahan. Iran…"
      ]
     },
     "metadata": {},
     "output_type": "display_data"
    },
    {
     "data": {
      "application/vnd.jupyter.widget-view+json": {
       "model_id": "",
       "version_major": 2,
       "version_minor": 0
      },
      "text/plain": [
       "HBox(children=(Button(description='YES', style=ButtonStyle()), Button(description='NO', style=ButtonStyle()), …"
      ]
     },
     "metadata": {},
     "output_type": "display_data"
    },
    {
     "data": {
      "application/vnd.jupyter.widget-view+json": {
       "model_id": "",
       "version_major": 2,
       "version_minor": 0
      },
      "text/plain": [
       "HBox(children=(Textarea(value='Talepoor Ardakani Maryam M', disabled=True), Textarea(value='Baghi Masoud M', d…"
      ]
     },
     "metadata": {},
     "output_type": "display_data"
    },
    {
     "data": {
      "application/vnd.jupyter.widget-view+json": {
       "model_id": "",
       "version_major": 2,
       "version_minor": 0
      },
      "text/plain": [
       "HBox(children=(Textarea(value='Talepoor Ardakani Maryam MRostamian Delavar Mahsa MBaghi Masoud MNasr-Esfahani …"
      ]
     },
     "metadata": {},
     "output_type": "display_data"
    },
    {
     "data": {
      "application/vnd.jupyter.widget-view+json": {
       "model_id": "",
       "version_major": 2,
       "version_minor": 0
      },
      "text/plain": [
       "HBox(children=(Textarea(value='Department of Biology. School of Sciences. University of Isfahan. Isfahan. Iran…"
      ]
     },
     "metadata": {},
     "output_type": "display_data"
    },
    {
     "data": {
      "application/vnd.jupyter.widget-view+json": {
       "model_id": "",
       "version_major": 2,
       "version_minor": 0
      },
      "text/plain": [
       "HBox(children=(Button(description='YES', style=ButtonStyle()), Button(description='NO', style=ButtonStyle()), …"
      ]
     },
     "metadata": {},
     "output_type": "display_data"
    },
    {
     "data": {
      "application/vnd.jupyter.widget-view+json": {
       "model_id": "",
       "version_major": 2,
       "version_minor": 0
      },
      "text/plain": [
       "HBox(children=(Textarea(value='Talepoor Ardakani Maryam M', disabled=True), Textarea(value='Nasr-Esfahani Moha…"
      ]
     },
     "metadata": {},
     "output_type": "display_data"
    },
    {
     "data": {
      "application/vnd.jupyter.widget-view+json": {
       "model_id": "",
       "version_major": 2,
       "version_minor": 0
      },
      "text/plain": [
       "HBox(children=(Textarea(value='Talepoor Ardakani Maryam MRostamian Delavar Mahsa MBaghi Masoud MNasr-Esfahani …"
      ]
     },
     "metadata": {},
     "output_type": "display_data"
    },
    {
     "data": {
      "application/vnd.jupyter.widget-view+json": {
       "model_id": "",
       "version_major": 2,
       "version_minor": 0
      },
      "text/plain": [
       "HBox(children=(Textarea(value='Department of Biology. School of Sciences. University of Isfahan. Isfahan. Iran…"
      ]
     },
     "metadata": {},
     "output_type": "display_data"
    },
    {
     "data": {
      "application/vnd.jupyter.widget-view+json": {
       "model_id": "",
       "version_major": 2,
       "version_minor": 0
      },
      "text/plain": [
       "HBox(children=(Button(description='YES', style=ButtonStyle()), Button(description='NO', style=ButtonStyle()), …"
      ]
     },
     "metadata": {},
     "output_type": "display_data"
    },
    {
     "name": "stdout",
     "output_type": "stream",
     "text": [
      "Вы остановились на паре номер: 2\n"
     ]
    }
   ],
   "source": [
    "#Сборка обучащей выборки\n",
    "training(list_of_pairs,0)"
   ]
  },
  {
   "cell_type": "code",
   "execution_count": 206,
   "metadata": {},
   "outputs": [],
   "source": [
    "# Запись коллекция в базы данных\n",
    "\n",
    "# Строка для создания таблицы\n",
    "#sql_create_pair=\"CREATE TABLE pair_of_authors (id INT NOT NULL AUTO_INCREMENT,name1 VARCHAR(255), name2 VARCHAR(255), coauthors1 VARCHAR(255),coauthors2 VARCHAR(255), affiliations1 VARCHAR(255),affiliations2 VARCHAR(255), abstract1 TEXT, abstract2 TEXT, title1 VARCHAR(255),title2 VARCHAR(255), same INT, PRIMARY KEY (id))\"\n",
    "#mycursor.execute(sql_create_pair)\n",
    "\n",
    "# Добавление размеченых данных в базу данных\n",
    "import mysql.connector\n",
    "mydb = mysql.connector.connect(\n",
    "  host=\"localhost\",\n",
    "  user=\"root\",\n",
    "  passwd=\"root\",\n",
    "    auth_plugin='mysql_native_password',\n",
    "    database='pudov_test'\n",
    ")\n",
    "mycursor = mydb.cursor()\n",
    "\n",
    "sql_add_data=\"INSERT INTO pair_of_authors (name1, name2,coauthors1,coauthors2,affiliations1,affiliations2,abstract1, abstract2,title1,title2,same) VALUES (%s, %s,%s,%s,%s,%s,%s,%s,%s,%s,%s)\"\n",
    "for i in training_set:\n",
    "    val = (list_of_pairs.name1, list_of_pairs.name2, list_of_pairs.coauthors1, list_of_pairs.coauthors2, list_of_pairs.affiliations1,list_of_pairs.affiliations2,list_of_pairs.abstract1,list_of_pairs.abstract2,list_of_pairs.article_title1,list_of_pairs.article_title2,i.same)\n",
    "    mycursor.execute(sql_add_data, val)\n",
    "\n",
    "\n",
    "mydb.commit()"
   ]
  },
  {
   "cell_type": "code",
   "execution_count": null,
   "metadata": {},
   "outputs": [],
   "source": []
  },
  {
   "cell_type": "code",
   "execution_count": null,
   "metadata": {},
   "outputs": [],
   "source": []
  },
  {
   "cell_type": "code",
   "execution_count": null,
   "metadata": {},
   "outputs": [],
   "source": []
  },
  {
   "cell_type": "code",
   "execution_count": null,
   "metadata": {},
   "outputs": [],
   "source": []
  },
  {
   "cell_type": "code",
   "execution_count": null,
   "metadata": {},
   "outputs": [],
   "source": []
  },
  {
   "cell_type": "code",
   "execution_count": 70,
   "metadata": {},
   "outputs": [],
   "source": []
  },
  {
   "cell_type": "code",
   "execution_count": null,
   "metadata": {},
   "outputs": [],
   "source": []
  },
  {
   "cell_type": "code",
   "execution_count": null,
   "metadata": {},
   "outputs": [],
   "source": []
  },
  {
   "cell_type": "code",
   "execution_count": 70,
   "metadata": {},
   "outputs": [],
   "source": []
  },
  {
   "cell_type": "code",
   "execution_count": null,
   "metadata": {},
   "outputs": [],
   "source": []
  },
  {
   "cell_type": "code",
   "execution_count": null,
   "metadata": {},
   "outputs": [],
   "source": []
  },
  {
   "cell_type": "code",
   "execution_count": 30,
   "metadata": {},
   "outputs": [],
   "source": [
    "\n"
   ]
  },
  {
   "cell_type": "code",
   "execution_count": null,
   "metadata": {},
   "outputs": [],
   "source": []
  },
  {
   "cell_type": "code",
   "execution_count": null,
   "metadata": {},
   "outputs": [],
   "source": []
  }
 ],
 "metadata": {
  "kernelspec": {
   "display_name": "Python 3",
   "language": "python",
   "name": "python3"
  },
  "language_info": {
   "codemirror_mode": {
    "name": "ipython",
    "version": 3
   },
   "file_extension": ".py",
   "mimetype": "text/x-python",
   "name": "python",
   "nbconvert_exporter": "python",
   "pygments_lexer": "ipython3",
   "version": "3.6.5"
  }
 },
 "nbformat": 4,
 "nbformat_minor": 2
}
